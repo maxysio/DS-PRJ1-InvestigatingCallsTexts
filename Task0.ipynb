{
  "nbformat": 4,
  "nbformat_minor": 0,
  "metadata": {
    "colab": {
      "name": "Task0.ipynb",
      "provenance": []
    },
    "kernelspec": {
      "name": "python3",
      "display_name": "Python 3"
    }
  },
  "cells": [
    {
      "cell_type": "code",
      "metadata": {
        "id": "OXaPkotbrq0O",
        "colab_type": "code",
        "colab": {}
      },
      "source": [
        "# Scrap File"
      ],
      "execution_count": 0,
      "outputs": []
    },
    {
      "cell_type": "code",
      "metadata": {
        "id": "EAeqJyYBsJTF",
        "colab_type": "code",
        "outputId": "e63867a6-ad18-4a9d-c8b3-fb8dcb9eb531",
        "colab": {
          "base_uri": "https://localhost:8080/",
          "height": 122
        }
      },
      "source": [
        "from google.colab import drive\n",
        "drive.mount('/content/drive')"
      ],
      "execution_count": 0,
      "outputs": [
        {
          "output_type": "stream",
          "text": [
            "Go to this URL in a browser: https://accounts.google.com/o/oauth2/auth?client_id=947318989803-6bn6qk8qdgf4n4g3pfee6491hc0brc4i.apps.googleusercontent.com&redirect_uri=urn%3aietf%3awg%3aoauth%3a2.0%3aoob&response_type=code&scope=email%20https%3a%2f%2fwww.googleapis.com%2fauth%2fdocs.test%20https%3a%2f%2fwww.googleapis.com%2fauth%2fdrive%20https%3a%2f%2fwww.googleapis.com%2fauth%2fdrive.photos.readonly%20https%3a%2f%2fwww.googleapis.com%2fauth%2fpeopleapi.readonly\n",
            "\n",
            "Enter your authorization code:\n",
            "··········\n",
            "Mounted at /content/drive\n"
          ],
          "name": "stdout"
        }
      ]
    },
    {
      "cell_type": "code",
      "metadata": {
        "id": "7wpWGSy3sT3N",
        "colab_type": "code",
        "colab": {}
      },
      "source": [
        "file_path = '/content/drive/My Drive/Colab Notebooks/Data Structures and Alogorithms/Project 1 - Investigating Texts and Calls/Task0.py'\n",
        "file_calls = '/content/drive/My Drive/Colab Notebooks/Data Structures and Alogorithms/Project 1 - Investigating Texts and Calls/calls.csv'\n",
        "file_texts = '/content/drive/My Drive/Colab Notebooks/Data Structures and Alogorithms/Project 1 - Investigating Texts and Calls/texts.csv'"
      ],
      "execution_count": 0,
      "outputs": []
    },
    {
      "cell_type": "code",
      "metadata": {
        "id": "bzmuHX8MsVtQ",
        "colab_type": "code",
        "colab": {}
      },
      "source": [
        "%pycat file_path"
      ],
      "execution_count": 0,
      "outputs": []
    },
    {
      "cell_type": "code",
      "metadata": {
        "id": "Gis0mCCfsbz5",
        "colab_type": "code",
        "colab": {}
      },
      "source": [
        "import csv\n",
        "import pandas as pd\n",
        "import numpy as np"
      ],
      "execution_count": 0,
      "outputs": []
    },
    {
      "cell_type": "code",
      "metadata": {
        "id": "2GDNS1_KtCiy",
        "colab_type": "code",
        "colab": {}
      },
      "source": [
        "with open(file_texts, 'r') as f:\n",
        "    reader = csv.reader(f)\n",
        "    texts = list(reader)\n",
        "\n",
        "with open(file_calls, 'r') as f:\n",
        "    reader = csv.reader(f)\n",
        "    calls = list(reader)"
      ],
      "execution_count": 0,
      "outputs": []
    },
    {
      "cell_type": "code",
      "metadata": {
        "id": "x7eIyLbIts5F",
        "colab_type": "code",
        "outputId": "12ec0f40-4c79-4ef9-e0bc-e7cfa97f940d",
        "colab": {
          "base_uri": "https://localhost:8080/",
          "height": 34
        }
      },
      "source": [
        "print(texts[0])"
      ],
      "execution_count": 0,
      "outputs": [
        {
          "output_type": "stream",
          "text": [
            "['97424 22395', '90365 06212', '01-09-2016 06:03:22']\n"
          ],
          "name": "stdout"
        }
      ]
    },
    {
      "cell_type": "code",
      "metadata": {
        "id": "3c4ioYLGtdrR",
        "colab_type": "code",
        "outputId": "a97d6c50-26eb-4e82-d700-860f3cd5692c",
        "colab": {
          "base_uri": "https://localhost:8080/",
          "height": 34
        }
      },
      "source": [
        "print(calls[-1])"
      ],
      "execution_count": 0,
      "outputs": [
        {
          "output_type": "stream",
          "text": [
            "['98447 62998', '(080)46304537', '30-09-2016 23:57:15', '2151']\n"
          ],
          "name": "stdout"
        }
      ]
    },
    {
      "cell_type": "code",
      "metadata": {
        "id": "XKEmRkcytfAR",
        "colab_type": "code",
        "colab": {}
      },
      "source": [
        "def getPhoneNumbers(list_whole):\n",
        "  list_phone_numbers = []\n",
        "  for item in list_whole:\n",
        "    arr_list = str(item).split(',')\n",
        "    list_phone_numbers.append(arr_list[0])\n",
        "    list_phone_numbers.append(arr_list[1])\n",
        "  return list_phone_numbers"
      ],
      "execution_count": 0,
      "outputs": []
    },
    {
      "cell_type": "code",
      "metadata": {
        "id": "vgpnP4OMzdqA",
        "colab_type": "code",
        "colab": {}
      },
      "source": [
        "calls_phone_numbers = getPhoneNumbers(calls)\n",
        "texts_phone_numbers = getPhoneNumbers(texts)"
      ],
      "execution_count": 0,
      "outputs": []
    },
    {
      "cell_type": "code",
      "metadata": {
        "id": "MG8rRBNkzpRN",
        "colab_type": "code",
        "colab": {}
      },
      "source": [
        "combined_list = calls_phone_numbers + texts_phone_numbers\n",
        "combined_list = set(combined_list)"
      ],
      "execution_count": 0,
      "outputs": []
    },
    {
      "cell_type": "code",
      "metadata": {
        "id": "q5EzVwYY_DEi",
        "colab_type": "code",
        "outputId": "bbe5b8e9-aa0e-4e81-fc5a-7ef21c10ec48",
        "colab": {
          "base_uri": "https://localhost:8080/",
          "height": 34
        }
      },
      "source": [
        "len(combined_list)"
      ],
      "execution_count": 0,
      "outputs": [
        {
          "output_type": "execute_result",
          "data": {
            "text/plain": [
              "1039"
            ]
          },
          "metadata": {
            "tags": []
          },
          "execution_count": 31
        }
      ]
    },
    {
      "cell_type": "code",
      "metadata": {
        "id": "8yDYxeBc_H74",
        "colab_type": "code",
        "outputId": "ca0fd50e-c5a9-43d2-826a-8b0c3aa9df16",
        "colab": {
          "base_uri": "https://localhost:8080/",
          "height": 34
        }
      },
      "source": [
        "len(calls_phone_numbers), len(texts_phone_numbers)"
      ],
      "execution_count": 0,
      "outputs": [
        {
          "output_type": "execute_result",
          "data": {
            "text/plain": [
              "(10426, 18144)"
            ]
          },
          "metadata": {
            "tags": []
          },
          "execution_count": 32
        }
      ]
    },
    {
      "cell_type": "code",
      "metadata": {
        "id": "pKq9q7p5_MZn",
        "colab_type": "code",
        "outputId": "bf67f984-0394-47e2-b89e-76369a4b3343",
        "colab": {
          "base_uri": "https://localhost:8080/",
          "height": 34
        }
      },
      "source": [
        "print('There are {} different telephone numbers in the records'.format(len(combined_list)))"
      ],
      "execution_count": 0,
      "outputs": [
        {
          "output_type": "stream",
          "text": [
            "There are 1039 different telephone numbers in the records\n"
          ],
          "name": "stdout"
        }
      ]
    },
    {
      "cell_type": "code",
      "metadata": {
        "id": "YxCM_6ng_2WK",
        "colab_type": "code",
        "outputId": "58d165f5-18ee-47bf-a9fb-5bcc5961bfec",
        "colab": {
          "base_uri": "https://localhost:8080/",
          "height": 34
        }
      },
      "source": [
        "calls[0]"
      ],
      "execution_count": 0,
      "outputs": [
        {
          "output_type": "execute_result",
          "data": {
            "text/plain": [
              "['78130 00821', '98453 94494', '01-09-2016 06:01:12', '186']"
            ]
          },
          "metadata": {
            "tags": []
          },
          "execution_count": 34
        }
      ]
    },
    {
      "cell_type": "code",
      "metadata": {
        "id": "ifS3DH5AFBQD",
        "colab_type": "code",
        "colab": {}
      },
      "source": [
        "df_calls = pd.DataFrame(calls, columns=['Calling_Number', 'Receiving_Number', 'Start_Time', 'Duration'])"
      ],
      "execution_count": 0,
      "outputs": []
    },
    {
      "cell_type": "code",
      "metadata": {
        "id": "h7mCEFm9GzC1",
        "colab_type": "code",
        "outputId": "7fb76ec8-16e8-454d-92b2-5d0c5fa5293c",
        "colab": {
          "base_uri": "https://localhost:8080/",
          "height": 204
        }
      },
      "source": [
        "df_calls.head()"
      ],
      "execution_count": 0,
      "outputs": [
        {
          "output_type": "execute_result",
          "data": {
            "text/html": [
              "<div>\n",
              "<style scoped>\n",
              "    .dataframe tbody tr th:only-of-type {\n",
              "        vertical-align: middle;\n",
              "    }\n",
              "\n",
              "    .dataframe tbody tr th {\n",
              "        vertical-align: top;\n",
              "    }\n",
              "\n",
              "    .dataframe thead th {\n",
              "        text-align: right;\n",
              "    }\n",
              "</style>\n",
              "<table border=\"1\" class=\"dataframe\">\n",
              "  <thead>\n",
              "    <tr style=\"text-align: right;\">\n",
              "      <th></th>\n",
              "      <th>Calling_Number</th>\n",
              "      <th>Receiving_Number</th>\n",
              "      <th>Start_Time</th>\n",
              "      <th>Duration</th>\n",
              "    </tr>\n",
              "  </thead>\n",
              "  <tbody>\n",
              "    <tr>\n",
              "      <th>0</th>\n",
              "      <td>78130 00821</td>\n",
              "      <td>98453 94494</td>\n",
              "      <td>01-09-2016 06:01:12</td>\n",
              "      <td>186</td>\n",
              "    </tr>\n",
              "    <tr>\n",
              "      <th>1</th>\n",
              "      <td>78298 91466</td>\n",
              "      <td>(022)28952819</td>\n",
              "      <td>01-09-2016 06:01:59</td>\n",
              "      <td>2093</td>\n",
              "    </tr>\n",
              "    <tr>\n",
              "      <th>2</th>\n",
              "      <td>97424 22395</td>\n",
              "      <td>(022)47410783</td>\n",
              "      <td>01-09-2016 06:03:51</td>\n",
              "      <td>1975</td>\n",
              "    </tr>\n",
              "    <tr>\n",
              "      <th>3</th>\n",
              "      <td>93427 40118</td>\n",
              "      <td>(080)33118033</td>\n",
              "      <td>01-09-2016 06:11:23</td>\n",
              "      <td>1156</td>\n",
              "    </tr>\n",
              "    <tr>\n",
              "      <th>4</th>\n",
              "      <td>90087 42537</td>\n",
              "      <td>(080)35121497</td>\n",
              "      <td>01-09-2016 06:17:26</td>\n",
              "      <td>573</td>\n",
              "    </tr>\n",
              "  </tbody>\n",
              "</table>\n",
              "</div>"
            ],
            "text/plain": [
              "  Calling_Number Receiving_Number           Start_Time Duration\n",
              "0    78130 00821      98453 94494  01-09-2016 06:01:12      186\n",
              "1    78298 91466    (022)28952819  01-09-2016 06:01:59     2093\n",
              "2    97424 22395    (022)47410783  01-09-2016 06:03:51     1975\n",
              "3    93427 40118    (080)33118033  01-09-2016 06:11:23     1156\n",
              "4    90087 42537    (080)35121497  01-09-2016 06:17:26      573"
            ]
          },
          "metadata": {
            "tags": []
          },
          "execution_count": 36
        }
      ]
    },
    {
      "cell_type": "code",
      "metadata": {
        "id": "1fMyGVUrG0fh",
        "colab_type": "code",
        "colab": {}
      },
      "source": [
        "df_temp = df_calls.head()"
      ],
      "execution_count": 0,
      "outputs": []
    },
    {
      "cell_type": "code",
      "metadata": {
        "id": "Lrj1yjNfHOca",
        "colab_type": "code",
        "outputId": "e1f85379-14f7-4fa0-96b1-e43cc97b6c78",
        "colab": {
          "base_uri": "https://localhost:8080/",
          "height": 204
        }
      },
      "source": [
        "df_temp"
      ],
      "execution_count": 0,
      "outputs": [
        {
          "output_type": "execute_result",
          "data": {
            "text/html": [
              "<div>\n",
              "<style scoped>\n",
              "    .dataframe tbody tr th:only-of-type {\n",
              "        vertical-align: middle;\n",
              "    }\n",
              "\n",
              "    .dataframe tbody tr th {\n",
              "        vertical-align: top;\n",
              "    }\n",
              "\n",
              "    .dataframe thead th {\n",
              "        text-align: right;\n",
              "    }\n",
              "</style>\n",
              "<table border=\"1\" class=\"dataframe\">\n",
              "  <thead>\n",
              "    <tr style=\"text-align: right;\">\n",
              "      <th></th>\n",
              "      <th>Calling_Number</th>\n",
              "      <th>Receiving_Number</th>\n",
              "      <th>Start_Time</th>\n",
              "      <th>Duration</th>\n",
              "    </tr>\n",
              "  </thead>\n",
              "  <tbody>\n",
              "    <tr>\n",
              "      <th>0</th>\n",
              "      <td>78130 00821</td>\n",
              "      <td>98453 94494</td>\n",
              "      <td>01-09-2016 06:01:12</td>\n",
              "      <td>186</td>\n",
              "    </tr>\n",
              "    <tr>\n",
              "      <th>1</th>\n",
              "      <td>78298 91466</td>\n",
              "      <td>(022)28952819</td>\n",
              "      <td>01-09-2016 06:01:59</td>\n",
              "      <td>2093</td>\n",
              "    </tr>\n",
              "    <tr>\n",
              "      <th>2</th>\n",
              "      <td>97424 22395</td>\n",
              "      <td>(022)47410783</td>\n",
              "      <td>01-09-2016 06:03:51</td>\n",
              "      <td>1975</td>\n",
              "    </tr>\n",
              "    <tr>\n",
              "      <th>3</th>\n",
              "      <td>93427 40118</td>\n",
              "      <td>(080)33118033</td>\n",
              "      <td>01-09-2016 06:11:23</td>\n",
              "      <td>1156</td>\n",
              "    </tr>\n",
              "    <tr>\n",
              "      <th>4</th>\n",
              "      <td>90087 42537</td>\n",
              "      <td>(080)35121497</td>\n",
              "      <td>01-09-2016 06:17:26</td>\n",
              "      <td>573</td>\n",
              "    </tr>\n",
              "  </tbody>\n",
              "</table>\n",
              "</div>"
            ],
            "text/plain": [
              "  Calling_Number Receiving_Number           Start_Time Duration\n",
              "0    78130 00821      98453 94494  01-09-2016 06:01:12      186\n",
              "1    78298 91466    (022)28952819  01-09-2016 06:01:59     2093\n",
              "2    97424 22395    (022)47410783  01-09-2016 06:03:51     1975\n",
              "3    93427 40118    (080)33118033  01-09-2016 06:11:23     1156\n",
              "4    90087 42537    (080)35121497  01-09-2016 06:17:26      573"
            ]
          },
          "metadata": {
            "tags": []
          },
          "execution_count": 38
        }
      ]
    },
    {
      "cell_type": "code",
      "metadata": {
        "id": "M3uLH4SnHPHq",
        "colab_type": "code",
        "outputId": "9dd821b8-589a-4af9-8f0f-2a13a9687bcd",
        "colab": {
          "base_uri": "https://localhost:8080/",
          "height": 204
        }
      },
      "source": [
        "df_t1 = df_temp.melt(id_vars=['Calling_Number'], value_vars=['Duration'], value_name='Duration')\n",
        "df_t1.rename(columns = {'Calling_Number':'Phone_Number'}, inplace = True)\n",
        "df_t1.Duration = df_t1.Duration.astype(int)\n",
        "df_t1.head()"
      ],
      "execution_count": 0,
      "outputs": [
        {
          "output_type": "execute_result",
          "data": {
            "text/html": [
              "<div>\n",
              "<style scoped>\n",
              "    .dataframe tbody tr th:only-of-type {\n",
              "        vertical-align: middle;\n",
              "    }\n",
              "\n",
              "    .dataframe tbody tr th {\n",
              "        vertical-align: top;\n",
              "    }\n",
              "\n",
              "    .dataframe thead th {\n",
              "        text-align: right;\n",
              "    }\n",
              "</style>\n",
              "<table border=\"1\" class=\"dataframe\">\n",
              "  <thead>\n",
              "    <tr style=\"text-align: right;\">\n",
              "      <th></th>\n",
              "      <th>Phone_Number</th>\n",
              "      <th>variable</th>\n",
              "      <th>Duration</th>\n",
              "    </tr>\n",
              "  </thead>\n",
              "  <tbody>\n",
              "    <tr>\n",
              "      <th>0</th>\n",
              "      <td>78130 00821</td>\n",
              "      <td>Duration</td>\n",
              "      <td>186</td>\n",
              "    </tr>\n",
              "    <tr>\n",
              "      <th>1</th>\n",
              "      <td>78298 91466</td>\n",
              "      <td>Duration</td>\n",
              "      <td>2093</td>\n",
              "    </tr>\n",
              "    <tr>\n",
              "      <th>2</th>\n",
              "      <td>97424 22395</td>\n",
              "      <td>Duration</td>\n",
              "      <td>1975</td>\n",
              "    </tr>\n",
              "    <tr>\n",
              "      <th>3</th>\n",
              "      <td>93427 40118</td>\n",
              "      <td>Duration</td>\n",
              "      <td>1156</td>\n",
              "    </tr>\n",
              "    <tr>\n",
              "      <th>4</th>\n",
              "      <td>90087 42537</td>\n",
              "      <td>Duration</td>\n",
              "      <td>573</td>\n",
              "    </tr>\n",
              "  </tbody>\n",
              "</table>\n",
              "</div>"
            ],
            "text/plain": [
              "  Phone_Number  variable  Duration\n",
              "0  78130 00821  Duration       186\n",
              "1  78298 91466  Duration      2093\n",
              "2  97424 22395  Duration      1975\n",
              "3  93427 40118  Duration      1156\n",
              "4  90087 42537  Duration       573"
            ]
          },
          "metadata": {
            "tags": []
          },
          "execution_count": 97
        }
      ]
    },
    {
      "cell_type": "code",
      "metadata": {
        "id": "8iK-pesMMndg",
        "colab_type": "code",
        "outputId": "696cca50-9045-41c3-80b8-0d5fd93e4673",
        "colab": {
          "base_uri": "https://localhost:8080/",
          "height": 153
        }
      },
      "source": [
        "df_t1.info()"
      ],
      "execution_count": 0,
      "outputs": [
        {
          "output_type": "stream",
          "text": [
            "<class 'pandas.core.frame.DataFrame'>\n",
            "RangeIndex: 5 entries, 0 to 4\n",
            "Data columns (total 3 columns):\n",
            "Phone_Number    5 non-null object\n",
            "variable        5 non-null object\n",
            "Duration        5 non-null int64\n",
            "dtypes: int64(1), object(2)\n",
            "memory usage: 248.0+ bytes\n"
          ],
          "name": "stdout"
        }
      ]
    },
    {
      "cell_type": "code",
      "metadata": {
        "id": "5IfAMIvHHduC",
        "colab_type": "code",
        "outputId": "486239ec-8b9c-49d4-e430-eee9ecec392a",
        "colab": {
          "base_uri": "https://localhost:8080/",
          "height": 204
        }
      },
      "source": [
        "df_t2 = df_temp.melt(id_vars=['Receiving_Number'], value_vars=['Duration'], value_name='Duration')\n",
        "df_t2.rename(columns = {'Receiving_Number':'Phone_Number'}, inplace = True)\n",
        "df_t2.Duration = df_t2.Duration.astype(int)\n",
        "df_t2.head()"
      ],
      "execution_count": 0,
      "outputs": [
        {
          "output_type": "execute_result",
          "data": {
            "text/html": [
              "<div>\n",
              "<style scoped>\n",
              "    .dataframe tbody tr th:only-of-type {\n",
              "        vertical-align: middle;\n",
              "    }\n",
              "\n",
              "    .dataframe tbody tr th {\n",
              "        vertical-align: top;\n",
              "    }\n",
              "\n",
              "    .dataframe thead th {\n",
              "        text-align: right;\n",
              "    }\n",
              "</style>\n",
              "<table border=\"1\" class=\"dataframe\">\n",
              "  <thead>\n",
              "    <tr style=\"text-align: right;\">\n",
              "      <th></th>\n",
              "      <th>Phone_Number</th>\n",
              "      <th>variable</th>\n",
              "      <th>Duration</th>\n",
              "    </tr>\n",
              "  </thead>\n",
              "  <tbody>\n",
              "    <tr>\n",
              "      <th>0</th>\n",
              "      <td>98453 94494</td>\n",
              "      <td>Duration</td>\n",
              "      <td>186</td>\n",
              "    </tr>\n",
              "    <tr>\n",
              "      <th>1</th>\n",
              "      <td>(022)28952819</td>\n",
              "      <td>Duration</td>\n",
              "      <td>2093</td>\n",
              "    </tr>\n",
              "    <tr>\n",
              "      <th>2</th>\n",
              "      <td>(022)47410783</td>\n",
              "      <td>Duration</td>\n",
              "      <td>1975</td>\n",
              "    </tr>\n",
              "    <tr>\n",
              "      <th>3</th>\n",
              "      <td>(080)33118033</td>\n",
              "      <td>Duration</td>\n",
              "      <td>1156</td>\n",
              "    </tr>\n",
              "    <tr>\n",
              "      <th>4</th>\n",
              "      <td>(080)35121497</td>\n",
              "      <td>Duration</td>\n",
              "      <td>573</td>\n",
              "    </tr>\n",
              "  </tbody>\n",
              "</table>\n",
              "</div>"
            ],
            "text/plain": [
              "    Phone_Number  variable  Duration\n",
              "0    98453 94494  Duration       186\n",
              "1  (022)28952819  Duration      2093\n",
              "2  (022)47410783  Duration      1975\n",
              "3  (080)33118033  Duration      1156\n",
              "4  (080)35121497  Duration       573"
            ]
          },
          "metadata": {
            "tags": []
          },
          "execution_count": 99
        }
      ]
    },
    {
      "cell_type": "code",
      "metadata": {
        "id": "OXvHvC4AIMl7",
        "colab_type": "code",
        "outputId": "9001c732-3a37-49fe-a7e3-942dbfaa20af",
        "colab": {
          "base_uri": "https://localhost:8080/",
          "height": 359
        }
      },
      "source": [
        "df_t3 = pd.concat([df_t1, df_t2], axis=0, sort=False)\n",
        "df_t3.reset_index(inplace=True, drop=True)\n",
        "df_t3.head(10)"
      ],
      "execution_count": 0,
      "outputs": [
        {
          "output_type": "execute_result",
          "data": {
            "text/html": [
              "<div>\n",
              "<style scoped>\n",
              "    .dataframe tbody tr th:only-of-type {\n",
              "        vertical-align: middle;\n",
              "    }\n",
              "\n",
              "    .dataframe tbody tr th {\n",
              "        vertical-align: top;\n",
              "    }\n",
              "\n",
              "    .dataframe thead th {\n",
              "        text-align: right;\n",
              "    }\n",
              "</style>\n",
              "<table border=\"1\" class=\"dataframe\">\n",
              "  <thead>\n",
              "    <tr style=\"text-align: right;\">\n",
              "      <th></th>\n",
              "      <th>Phone_Number</th>\n",
              "      <th>variable</th>\n",
              "      <th>Duration</th>\n",
              "    </tr>\n",
              "  </thead>\n",
              "  <tbody>\n",
              "    <tr>\n",
              "      <th>0</th>\n",
              "      <td>78130 00821</td>\n",
              "      <td>Duration</td>\n",
              "      <td>186</td>\n",
              "    </tr>\n",
              "    <tr>\n",
              "      <th>1</th>\n",
              "      <td>78298 91466</td>\n",
              "      <td>Duration</td>\n",
              "      <td>2093</td>\n",
              "    </tr>\n",
              "    <tr>\n",
              "      <th>2</th>\n",
              "      <td>97424 22395</td>\n",
              "      <td>Duration</td>\n",
              "      <td>1975</td>\n",
              "    </tr>\n",
              "    <tr>\n",
              "      <th>3</th>\n",
              "      <td>93427 40118</td>\n",
              "      <td>Duration</td>\n",
              "      <td>1156</td>\n",
              "    </tr>\n",
              "    <tr>\n",
              "      <th>4</th>\n",
              "      <td>90087 42537</td>\n",
              "      <td>Duration</td>\n",
              "      <td>573</td>\n",
              "    </tr>\n",
              "    <tr>\n",
              "      <th>5</th>\n",
              "      <td>98453 94494</td>\n",
              "      <td>Duration</td>\n",
              "      <td>186</td>\n",
              "    </tr>\n",
              "    <tr>\n",
              "      <th>6</th>\n",
              "      <td>(022)28952819</td>\n",
              "      <td>Duration</td>\n",
              "      <td>2093</td>\n",
              "    </tr>\n",
              "    <tr>\n",
              "      <th>7</th>\n",
              "      <td>(022)47410783</td>\n",
              "      <td>Duration</td>\n",
              "      <td>1975</td>\n",
              "    </tr>\n",
              "    <tr>\n",
              "      <th>8</th>\n",
              "      <td>(080)33118033</td>\n",
              "      <td>Duration</td>\n",
              "      <td>1156</td>\n",
              "    </tr>\n",
              "    <tr>\n",
              "      <th>9</th>\n",
              "      <td>(080)35121497</td>\n",
              "      <td>Duration</td>\n",
              "      <td>573</td>\n",
              "    </tr>\n",
              "  </tbody>\n",
              "</table>\n",
              "</div>"
            ],
            "text/plain": [
              "    Phone_Number  variable  Duration\n",
              "0    78130 00821  Duration       186\n",
              "1    78298 91466  Duration      2093\n",
              "2    97424 22395  Duration      1975\n",
              "3    93427 40118  Duration      1156\n",
              "4    90087 42537  Duration       573\n",
              "5    98453 94494  Duration       186\n",
              "6  (022)28952819  Duration      2093\n",
              "7  (022)47410783  Duration      1975\n",
              "8  (080)33118033  Duration      1156\n",
              "9  (080)35121497  Duration       573"
            ]
          },
          "metadata": {
            "tags": []
          },
          "execution_count": 100
        }
      ]
    },
    {
      "cell_type": "code",
      "metadata": {
        "id": "AQw27tGwJDHV",
        "colab_type": "code",
        "outputId": "0d20781d-898c-4d8e-e571-17de7b99bf46",
        "colab": {
          "base_uri": "https://localhost:8080/",
          "height": 153
        }
      },
      "source": [
        "df_t3.info()"
      ],
      "execution_count": 0,
      "outputs": [
        {
          "output_type": "stream",
          "text": [
            "<class 'pandas.core.frame.DataFrame'>\n",
            "RangeIndex: 10 entries, 0 to 9\n",
            "Data columns (total 3 columns):\n",
            "Phone_Number    10 non-null object\n",
            "variable        10 non-null object\n",
            "Duration        10 non-null int64\n",
            "dtypes: int64(1), object(2)\n",
            "memory usage: 368.0+ bytes\n"
          ],
          "name": "stdout"
        }
      ]
    },
    {
      "cell_type": "code",
      "metadata": {
        "id": "8hS4_-_5Q1FC",
        "colab_type": "code",
        "outputId": "3a54d97b-9c1d-4b8a-9866-d163bf23d942",
        "colab": {
          "base_uri": "https://localhost:8080/",
          "height": 359
        }
      },
      "source": [
        "df_t4 = df_t3.groupby(['Phone_Number']).Duration.sum().reset_index()\n",
        "df_t4.head(10)"
      ],
      "execution_count": 0,
      "outputs": [
        {
          "output_type": "execute_result",
          "data": {
            "text/html": [
              "<div>\n",
              "<style scoped>\n",
              "    .dataframe tbody tr th:only-of-type {\n",
              "        vertical-align: middle;\n",
              "    }\n",
              "\n",
              "    .dataframe tbody tr th {\n",
              "        vertical-align: top;\n",
              "    }\n",
              "\n",
              "    .dataframe thead th {\n",
              "        text-align: right;\n",
              "    }\n",
              "</style>\n",
              "<table border=\"1\" class=\"dataframe\">\n",
              "  <thead>\n",
              "    <tr style=\"text-align: right;\">\n",
              "      <th></th>\n",
              "      <th>Phone_Number</th>\n",
              "      <th>Duration</th>\n",
              "    </tr>\n",
              "  </thead>\n",
              "  <tbody>\n",
              "    <tr>\n",
              "      <th>0</th>\n",
              "      <td>(022)28952819</td>\n",
              "      <td>2093</td>\n",
              "    </tr>\n",
              "    <tr>\n",
              "      <th>1</th>\n",
              "      <td>(022)47410783</td>\n",
              "      <td>1975</td>\n",
              "    </tr>\n",
              "    <tr>\n",
              "      <th>2</th>\n",
              "      <td>(080)33118033</td>\n",
              "      <td>1156</td>\n",
              "    </tr>\n",
              "    <tr>\n",
              "      <th>3</th>\n",
              "      <td>(080)35121497</td>\n",
              "      <td>573</td>\n",
              "    </tr>\n",
              "    <tr>\n",
              "      <th>4</th>\n",
              "      <td>78130 00821</td>\n",
              "      <td>186</td>\n",
              "    </tr>\n",
              "    <tr>\n",
              "      <th>5</th>\n",
              "      <td>78298 91466</td>\n",
              "      <td>2093</td>\n",
              "    </tr>\n",
              "    <tr>\n",
              "      <th>6</th>\n",
              "      <td>90087 42537</td>\n",
              "      <td>573</td>\n",
              "    </tr>\n",
              "    <tr>\n",
              "      <th>7</th>\n",
              "      <td>93427 40118</td>\n",
              "      <td>1156</td>\n",
              "    </tr>\n",
              "    <tr>\n",
              "      <th>8</th>\n",
              "      <td>97424 22395</td>\n",
              "      <td>1975</td>\n",
              "    </tr>\n",
              "    <tr>\n",
              "      <th>9</th>\n",
              "      <td>98453 94494</td>\n",
              "      <td>186</td>\n",
              "    </tr>\n",
              "  </tbody>\n",
              "</table>\n",
              "</div>"
            ],
            "text/plain": [
              "    Phone_Number  Duration\n",
              "0  (022)28952819      2093\n",
              "1  (022)47410783      1975\n",
              "2  (080)33118033      1156\n",
              "3  (080)35121497       573\n",
              "4    78130 00821       186\n",
              "5    78298 91466      2093\n",
              "6    90087 42537       573\n",
              "7    93427 40118      1156\n",
              "8    97424 22395      1975\n",
              "9    98453 94494       186"
            ]
          },
          "metadata": {
            "tags": []
          },
          "execution_count": 104
        }
      ]
    },
    {
      "cell_type": "code",
      "metadata": {
        "id": "VXO6O4YzSudI",
        "colab_type": "code",
        "colab": {}
      },
      "source": [
        "df_t4.sort_values(by = ['Duration'], ascending=[False], inplace=True)"
      ],
      "execution_count": 0,
      "outputs": []
    },
    {
      "cell_type": "code",
      "metadata": {
        "id": "2z9W0kP6TUsH",
        "colab_type": "code",
        "outputId": "4915a34b-de4e-44ac-ad3d-790e111361e7",
        "colab": {
          "base_uri": "https://localhost:8080/",
          "height": 359
        }
      },
      "source": [
        "df_t4.head(10)"
      ],
      "execution_count": 0,
      "outputs": [
        {
          "output_type": "execute_result",
          "data": {
            "text/html": [
              "<div>\n",
              "<style scoped>\n",
              "    .dataframe tbody tr th:only-of-type {\n",
              "        vertical-align: middle;\n",
              "    }\n",
              "\n",
              "    .dataframe tbody tr th {\n",
              "        vertical-align: top;\n",
              "    }\n",
              "\n",
              "    .dataframe thead th {\n",
              "        text-align: right;\n",
              "    }\n",
              "</style>\n",
              "<table border=\"1\" class=\"dataframe\">\n",
              "  <thead>\n",
              "    <tr style=\"text-align: right;\">\n",
              "      <th></th>\n",
              "      <th>Phone_Number</th>\n",
              "      <th>Duration</th>\n",
              "    </tr>\n",
              "  </thead>\n",
              "  <tbody>\n",
              "    <tr>\n",
              "      <th>0</th>\n",
              "      <td>(022)28952819</td>\n",
              "      <td>2093</td>\n",
              "    </tr>\n",
              "    <tr>\n",
              "      <th>5</th>\n",
              "      <td>78298 91466</td>\n",
              "      <td>2093</td>\n",
              "    </tr>\n",
              "    <tr>\n",
              "      <th>1</th>\n",
              "      <td>(022)47410783</td>\n",
              "      <td>1975</td>\n",
              "    </tr>\n",
              "    <tr>\n",
              "      <th>8</th>\n",
              "      <td>97424 22395</td>\n",
              "      <td>1975</td>\n",
              "    </tr>\n",
              "    <tr>\n",
              "      <th>2</th>\n",
              "      <td>(080)33118033</td>\n",
              "      <td>1156</td>\n",
              "    </tr>\n",
              "    <tr>\n",
              "      <th>7</th>\n",
              "      <td>93427 40118</td>\n",
              "      <td>1156</td>\n",
              "    </tr>\n",
              "    <tr>\n",
              "      <th>3</th>\n",
              "      <td>(080)35121497</td>\n",
              "      <td>573</td>\n",
              "    </tr>\n",
              "    <tr>\n",
              "      <th>6</th>\n",
              "      <td>90087 42537</td>\n",
              "      <td>573</td>\n",
              "    </tr>\n",
              "    <tr>\n",
              "      <th>4</th>\n",
              "      <td>78130 00821</td>\n",
              "      <td>186</td>\n",
              "    </tr>\n",
              "    <tr>\n",
              "      <th>9</th>\n",
              "      <td>98453 94494</td>\n",
              "      <td>186</td>\n",
              "    </tr>\n",
              "  </tbody>\n",
              "</table>\n",
              "</div>"
            ],
            "text/plain": [
              "    Phone_Number  Duration\n",
              "0  (022)28952819      2093\n",
              "5    78298 91466      2093\n",
              "1  (022)47410783      1975\n",
              "8    97424 22395      1975\n",
              "2  (080)33118033      1156\n",
              "7    93427 40118      1156\n",
              "3  (080)35121497       573\n",
              "6    90087 42537       573\n",
              "4    78130 00821       186\n",
              "9    98453 94494       186"
            ]
          },
          "metadata": {
            "tags": []
          },
          "execution_count": 111
        }
      ]
    },
    {
      "cell_type": "code",
      "metadata": {
        "id": "-RisBGLrTW0_",
        "colab_type": "code",
        "outputId": "e848b267-093d-4d3d-bc01-1096ebe5fc52",
        "colab": {
          "base_uri": "https://localhost:8080/",
          "height": 163
        }
      },
      "source": [
        "df_t3.groupby(['Phone_Number']).Duration.sum().reset_index().sort_values(by = ['Duration'], ascending=[False], inplace=True)"
      ],
      "execution_count": 0,
      "outputs": [
        {
          "output_type": "error",
          "ename": "AttributeError",
          "evalue": "ignored",
          "traceback": [
            "\u001b[0;31m---------------------------------------------------------------------------\u001b[0m",
            "\u001b[0;31mAttributeError\u001b[0m                            Traceback (most recent call last)",
            "\u001b[0;32m<ipython-input-109-f13104bcceba>\u001b[0m in \u001b[0;36m<module>\u001b[0;34m()\u001b[0m\n\u001b[0;32m----> 1\u001b[0;31m \u001b[0mdf_t3\u001b[0m\u001b[0;34m.\u001b[0m\u001b[0mgroupby\u001b[0m\u001b[0;34m(\u001b[0m\u001b[0;34m[\u001b[0m\u001b[0;34m'Phone_Number'\u001b[0m\u001b[0;34m]\u001b[0m\u001b[0;34m)\u001b[0m\u001b[0;34m.\u001b[0m\u001b[0mDuration\u001b[0m\u001b[0;34m.\u001b[0m\u001b[0msum\u001b[0m\u001b[0;34m(\u001b[0m\u001b[0;34m)\u001b[0m\u001b[0;34m.\u001b[0m\u001b[0mreset_index\u001b[0m\u001b[0;34m(\u001b[0m\u001b[0;34m)\u001b[0m\u001b[0;34m.\u001b[0m\u001b[0msort_values\u001b[0m\u001b[0;34m(\u001b[0m\u001b[0mby\u001b[0m \u001b[0;34m=\u001b[0m \u001b[0;34m[\u001b[0m\u001b[0;34m'Duration'\u001b[0m\u001b[0;34m]\u001b[0m\u001b[0;34m,\u001b[0m \u001b[0mascending\u001b[0m\u001b[0;34m=\u001b[0m\u001b[0;34m[\u001b[0m\u001b[0;32mFalse\u001b[0m\u001b[0;34m]\u001b[0m\u001b[0;34m,\u001b[0m \u001b[0minplace\u001b[0m\u001b[0;34m=\u001b[0m\u001b[0;32mTrue\u001b[0m\u001b[0;34m)\u001b[0m\u001b[0;34m.\u001b[0m\u001b[0mhead\u001b[0m\u001b[0;34m(\u001b[0m\u001b[0;34m)\u001b[0m\u001b[0;34m\u001b[0m\u001b[0;34m\u001b[0m\u001b[0m\n\u001b[0m",
            "\u001b[0;31mAttributeError\u001b[0m: 'NoneType' object has no attribute 'head'"
          ]
        }
      ]
    },
    {
      "cell_type": "code",
      "metadata": {
        "id": "jAWlSTXAUnIM",
        "colab_type": "code",
        "outputId": "07d4044c-cf3f-48df-ce48-be7f052a7118",
        "colab": {
          "base_uri": "https://localhost:8080/",
          "height": 34
        }
      },
      "source": [
        "df_t4.Phone_Number[0]"
      ],
      "execution_count": 0,
      "outputs": [
        {
          "output_type": "execute_result",
          "data": {
            "text/plain": [
              "'(022)28952819'"
            ]
          },
          "metadata": {
            "tags": []
          },
          "execution_count": 112
        }
      ]
    },
    {
      "cell_type": "code",
      "metadata": {
        "id": "qADnxZhZU883",
        "colab_type": "code",
        "outputId": "4785fbf2-8865-4bce-b82e-64d305ff95be",
        "colab": {
          "base_uri": "https://localhost:8080/",
          "height": 34
        }
      },
      "source": [
        "#Import the list to a dataframe\n",
        "df_calls = pd.DataFrame(calls, columns=['Calling_Number', 'Receiving_Number', 'Start_Time', 'Duration'])\n",
        "\n",
        "# Split it by making and receiving calls\n",
        "df_CallingNumbers = df_calls.melt(id_vars=['Calling_Number'], value_vars=['Duration'], value_name='Duration')\n",
        "df_CallingNumbers.rename(columns={'Calling_Number':'Phone_Number'}, inplace=True)\n",
        "df_CallingNumbers.Duration = df_CallingNumbers.Duration.astype(int)\n",
        "\n",
        "df_ReceivingNumbers = df_calls.melt(id_vars=['Receiving_Number'], value_vars=['Duration'], value_name='Duration')\n",
        "df_ReceivingNumbers.rename(columns={'Receiving_Number':'Phone_Number'}, inplace=True)\n",
        "df_ReceivingNumbers.Duration = df_ReceivingNumbers.Duration.astype(int)\n",
        "\n",
        "# Combine the lists\n",
        "df_CombinedNumbers = pd.concat([df_CallingNumbers, df_ReceivingNumbers], axis=0, sort=False)\n",
        "df_CombinedNumbers.reset_index(inplace=True, drop=True)\n",
        "\n",
        "# Group By and find the sum of all durations\n",
        "df_GroupedNumbers = df_CombinedNumbers.groupby(['Phone_Number']).Duration.sum().reset_index()\n",
        "\n",
        "# Sort and get the first one\n",
        "df_GroupedNumbers.sort_values(by = ['Duration'], ascending=[False], inplace=True)\n",
        "df_GroupedNumbers.reset_index(inplace=True, drop=True)\n",
        "\n",
        "#Print\n",
        "print('{}  spent the longest time, {} seconds, on the phone during September 2016.'.format(df_GroupedNumbers.Phone_Number[0], df_GroupedNumbers.Duration[0]))"
      ],
      "execution_count": 0,
      "outputs": [
        {
          "output_type": "stream",
          "text": [
            "(080)33251027  spent the longest time, 90456 seconds, on the phone during September 2016.\n"
          ],
          "name": "stdout"
        }
      ]
    },
    {
      "cell_type": "code",
      "metadata": {
        "id": "F59knrMfVhzP",
        "colab_type": "code",
        "outputId": "478c8bf3-8db1-49d0-8496-b1e78e4c654d",
        "colab": {
          "base_uri": "https://localhost:8080/",
          "height": 204
        }
      },
      "source": [
        "df_CombinedNumbers.head()"
      ],
      "execution_count": 0,
      "outputs": [
        {
          "output_type": "execute_result",
          "data": {
            "text/html": [
              "<div>\n",
              "<style scoped>\n",
              "    .dataframe tbody tr th:only-of-type {\n",
              "        vertical-align: middle;\n",
              "    }\n",
              "\n",
              "    .dataframe tbody tr th {\n",
              "        vertical-align: top;\n",
              "    }\n",
              "\n",
              "    .dataframe thead th {\n",
              "        text-align: right;\n",
              "    }\n",
              "</style>\n",
              "<table border=\"1\" class=\"dataframe\">\n",
              "  <thead>\n",
              "    <tr style=\"text-align: right;\">\n",
              "      <th></th>\n",
              "      <th>Phone_Number</th>\n",
              "      <th>variable</th>\n",
              "      <th>Duration</th>\n",
              "    </tr>\n",
              "  </thead>\n",
              "  <tbody>\n",
              "    <tr>\n",
              "      <th>0</th>\n",
              "      <td>78130 00821</td>\n",
              "      <td>Duration</td>\n",
              "      <td>186</td>\n",
              "    </tr>\n",
              "    <tr>\n",
              "      <th>1</th>\n",
              "      <td>78298 91466</td>\n",
              "      <td>Duration</td>\n",
              "      <td>2093</td>\n",
              "    </tr>\n",
              "    <tr>\n",
              "      <th>2</th>\n",
              "      <td>97424 22395</td>\n",
              "      <td>Duration</td>\n",
              "      <td>1975</td>\n",
              "    </tr>\n",
              "    <tr>\n",
              "      <th>3</th>\n",
              "      <td>93427 40118</td>\n",
              "      <td>Duration</td>\n",
              "      <td>1156</td>\n",
              "    </tr>\n",
              "    <tr>\n",
              "      <th>4</th>\n",
              "      <td>90087 42537</td>\n",
              "      <td>Duration</td>\n",
              "      <td>573</td>\n",
              "    </tr>\n",
              "  </tbody>\n",
              "</table>\n",
              "</div>"
            ],
            "text/plain": [
              "  Phone_Number  variable  Duration\n",
              "0  78130 00821  Duration       186\n",
              "1  78298 91466  Duration      2093\n",
              "2  97424 22395  Duration      1975\n",
              "3  93427 40118  Duration      1156\n",
              "4  90087 42537  Duration       573"
            ]
          },
          "metadata": {
            "tags": []
          },
          "execution_count": 115
        }
      ]
    },
    {
      "cell_type": "code",
      "metadata": {
        "id": "3xudjLEQVr5b",
        "colab_type": "code",
        "outputId": "1c2d75c6-5908-4562-f7f0-11d752035c0e",
        "colab": {
          "base_uri": "https://localhost:8080/",
          "height": 204
        }
      },
      "source": [
        "df_GroupedNumbers.head()"
      ],
      "execution_count": 0,
      "outputs": [
        {
          "output_type": "execute_result",
          "data": {
            "text/html": [
              "<div>\n",
              "<style scoped>\n",
              "    .dataframe tbody tr th:only-of-type {\n",
              "        vertical-align: middle;\n",
              "    }\n",
              "\n",
              "    .dataframe tbody tr th {\n",
              "        vertical-align: top;\n",
              "    }\n",
              "\n",
              "    .dataframe thead th {\n",
              "        text-align: right;\n",
              "    }\n",
              "</style>\n",
              "<table border=\"1\" class=\"dataframe\">\n",
              "  <thead>\n",
              "    <tr style=\"text-align: right;\">\n",
              "      <th></th>\n",
              "      <th>Phone_Number</th>\n",
              "      <th>Duration</th>\n",
              "    </tr>\n",
              "  </thead>\n",
              "  <tbody>\n",
              "    <tr>\n",
              "      <th>0</th>\n",
              "      <td>(080)33251027</td>\n",
              "      <td>90456</td>\n",
              "    </tr>\n",
              "    <tr>\n",
              "      <th>1</th>\n",
              "      <td>97380 60551</td>\n",
              "      <td>84209</td>\n",
              "    </tr>\n",
              "    <tr>\n",
              "      <th>2</th>\n",
              "      <td>(080)62164823</td>\n",
              "      <td>80264</td>\n",
              "    </tr>\n",
              "    <tr>\n",
              "      <th>3</th>\n",
              "      <td>99001 95783</td>\n",
              "      <td>78991</td>\n",
              "    </tr>\n",
              "    <tr>\n",
              "      <th>4</th>\n",
              "      <td>(080)45291968</td>\n",
              "      <td>75085</td>\n",
              "    </tr>\n",
              "  </tbody>\n",
              "</table>\n",
              "</div>"
            ],
            "text/plain": [
              "    Phone_Number  Duration\n",
              "0  (080)33251027     90456\n",
              "1    97380 60551     84209\n",
              "2  (080)62164823     80264\n",
              "3    99001 95783     78991\n",
              "4  (080)45291968     75085"
            ]
          },
          "metadata": {
            "tags": []
          },
          "execution_count": 121
        }
      ]
    },
    {
      "cell_type": "code",
      "metadata": {
        "id": "ohd1u1FZVwOU",
        "colab_type": "code",
        "outputId": "3f3e9ce0-5169-4f12-d6d2-69456e239ce9",
        "colab": {
          "base_uri": "https://localhost:8080/",
          "height": 204
        }
      },
      "source": [
        "df_calls_from_blore = df_calls[df_calls.Calling_Number.str.startswith('(080)')].reset_index(drop=True)\n",
        "df_calls_from_blore.head()"
      ],
      "execution_count": 0,
      "outputs": [
        {
          "output_type": "execute_result",
          "data": {
            "text/html": [
              "<div>\n",
              "<style scoped>\n",
              "    .dataframe tbody tr th:only-of-type {\n",
              "        vertical-align: middle;\n",
              "    }\n",
              "\n",
              "    .dataframe tbody tr th {\n",
              "        vertical-align: top;\n",
              "    }\n",
              "\n",
              "    .dataframe thead th {\n",
              "        text-align: right;\n",
              "    }\n",
              "</style>\n",
              "<table border=\"1\" class=\"dataframe\">\n",
              "  <thead>\n",
              "    <tr style=\"text-align: right;\">\n",
              "      <th></th>\n",
              "      <th>Calling_Number</th>\n",
              "      <th>Receiving_Number</th>\n",
              "      <th>Start_Time</th>\n",
              "      <th>Duration</th>\n",
              "    </tr>\n",
              "  </thead>\n",
              "  <tbody>\n",
              "    <tr>\n",
              "      <th>0</th>\n",
              "      <td>(080)45291968</td>\n",
              "      <td>90365 06212</td>\n",
              "      <td>01-09-2016 06:30:36</td>\n",
              "      <td>9</td>\n",
              "    </tr>\n",
              "    <tr>\n",
              "      <th>1</th>\n",
              "      <td>(080)62164823</td>\n",
              "      <td>74066 93594</td>\n",
              "      <td>01-09-2016 06:52:07</td>\n",
              "      <td>300</td>\n",
              "    </tr>\n",
              "    <tr>\n",
              "      <th>2</th>\n",
              "      <td>(080)67362492</td>\n",
              "      <td>(04344)316423</td>\n",
              "      <td>01-09-2016 07:24:45</td>\n",
              "      <td>2258</td>\n",
              "    </tr>\n",
              "    <tr>\n",
              "      <th>3</th>\n",
              "      <td>(080)69245029</td>\n",
              "      <td>(044)49481100</td>\n",
              "      <td>01-09-2016 07:34:19</td>\n",
              "      <td>9</td>\n",
              "    </tr>\n",
              "    <tr>\n",
              "      <th>4</th>\n",
              "      <td>(080)47459867</td>\n",
              "      <td>98440 65896</td>\n",
              "      <td>01-09-2016 08:08:59</td>\n",
              "      <td>2147</td>\n",
              "    </tr>\n",
              "  </tbody>\n",
              "</table>\n",
              "</div>"
            ],
            "text/plain": [
              "  Calling_Number Receiving_Number           Start_Time Duration\n",
              "0  (080)45291968      90365 06212  01-09-2016 06:30:36        9\n",
              "1  (080)62164823      74066 93594  01-09-2016 06:52:07      300\n",
              "2  (080)67362492    (04344)316423  01-09-2016 07:24:45     2258\n",
              "3  (080)69245029    (044)49481100  01-09-2016 07:34:19        9\n",
              "4  (080)47459867      98440 65896  01-09-2016 08:08:59     2147"
            ]
          },
          "metadata": {
            "tags": []
          },
          "execution_count": 128
        }
      ]
    },
    {
      "cell_type": "code",
      "metadata": {
        "id": "0gruSzAUXSqR",
        "colab_type": "code",
        "colab": {}
      },
      "source": [
        "def getAreaCode(ph_no):\n",
        "  areaCode = ''\n",
        "  ph_no = str(ph_no)\n",
        "  if(ph_no.startswith('140')):\n",
        "    areaCode = '140'\n",
        "  elif(ph_no.startswith('(')):\n",
        "    idx_ending_parenthesis = ph_no.find(')')\n",
        "    if(idx_ending_parenthesis>=0):\n",
        "      areaCode = ph_no[1:idx_ending_parenthesis]\n",
        "  elif(ph_no.find(' ')>=0):\n",
        "    areaCode = ph_no[0:4]\n",
        "\n",
        "  return areaCode"
      ],
      "execution_count": 0,
      "outputs": []
    },
    {
      "cell_type": "code",
      "metadata": {
        "id": "PJz20tUgbHg1",
        "colab_type": "code",
        "outputId": "22cebe47-cfab-4354-edb3-ac7c06b50a44",
        "colab": {
          "base_uri": "https://localhost:8080/",
          "height": 34
        }
      },
      "source": [
        "getAreaCode('140(04344)316423')"
      ],
      "execution_count": 0,
      "outputs": [
        {
          "output_type": "execute_result",
          "data": {
            "text/plain": [
              "'140'"
            ]
          },
          "metadata": {
            "tags": []
          },
          "execution_count": 139
        }
      ]
    },
    {
      "cell_type": "code",
      "metadata": {
        "id": "1wqbXqhkbPBp",
        "colab_type": "code",
        "colab": {}
      },
      "source": [
        "df_calls_from_blore['AreaCode'] = df_calls_from_blore.apply(lambda x: getAreaCode(x['Receiving_Number']), axis=1)"
      ],
      "execution_count": 0,
      "outputs": []
    },
    {
      "cell_type": "code",
      "metadata": {
        "id": "-KQP_OXYcYLm",
        "colab_type": "code",
        "outputId": "bd69d3a7-5ec2-4f79-e5a5-ea5badc8231e",
        "colab": {
          "base_uri": "https://localhost:8080/",
          "height": 204
        }
      },
      "source": [
        "df_calls_from_blore.head()"
      ],
      "execution_count": 0,
      "outputs": [
        {
          "output_type": "execute_result",
          "data": {
            "text/html": [
              "<div>\n",
              "<style scoped>\n",
              "    .dataframe tbody tr th:only-of-type {\n",
              "        vertical-align: middle;\n",
              "    }\n",
              "\n",
              "    .dataframe tbody tr th {\n",
              "        vertical-align: top;\n",
              "    }\n",
              "\n",
              "    .dataframe thead th {\n",
              "        text-align: right;\n",
              "    }\n",
              "</style>\n",
              "<table border=\"1\" class=\"dataframe\">\n",
              "  <thead>\n",
              "    <tr style=\"text-align: right;\">\n",
              "      <th></th>\n",
              "      <th>Calling_Number</th>\n",
              "      <th>Receiving_Number</th>\n",
              "      <th>Start_Time</th>\n",
              "      <th>Duration</th>\n",
              "      <th>AreaCode</th>\n",
              "    </tr>\n",
              "  </thead>\n",
              "  <tbody>\n",
              "    <tr>\n",
              "      <th>0</th>\n",
              "      <td>(080)45291968</td>\n",
              "      <td>90365 06212</td>\n",
              "      <td>01-09-2016 06:30:36</td>\n",
              "      <td>9</td>\n",
              "      <td>9036</td>\n",
              "    </tr>\n",
              "    <tr>\n",
              "      <th>1</th>\n",
              "      <td>(080)62164823</td>\n",
              "      <td>74066 93594</td>\n",
              "      <td>01-09-2016 06:52:07</td>\n",
              "      <td>300</td>\n",
              "      <td>7406</td>\n",
              "    </tr>\n",
              "    <tr>\n",
              "      <th>2</th>\n",
              "      <td>(080)67362492</td>\n",
              "      <td>(04344)316423</td>\n",
              "      <td>01-09-2016 07:24:45</td>\n",
              "      <td>2258</td>\n",
              "      <td>04344</td>\n",
              "    </tr>\n",
              "    <tr>\n",
              "      <th>3</th>\n",
              "      <td>(080)69245029</td>\n",
              "      <td>(044)49481100</td>\n",
              "      <td>01-09-2016 07:34:19</td>\n",
              "      <td>9</td>\n",
              "      <td>044</td>\n",
              "    </tr>\n",
              "    <tr>\n",
              "      <th>4</th>\n",
              "      <td>(080)47459867</td>\n",
              "      <td>98440 65896</td>\n",
              "      <td>01-09-2016 08:08:59</td>\n",
              "      <td>2147</td>\n",
              "      <td>9844</td>\n",
              "    </tr>\n",
              "  </tbody>\n",
              "</table>\n",
              "</div>"
            ],
            "text/plain": [
              "  Calling_Number Receiving_Number           Start_Time Duration AreaCode\n",
              "0  (080)45291968      90365 06212  01-09-2016 06:30:36        9     9036\n",
              "1  (080)62164823      74066 93594  01-09-2016 06:52:07      300     7406\n",
              "2  (080)67362492    (04344)316423  01-09-2016 07:24:45     2258    04344\n",
              "3  (080)69245029    (044)49481100  01-09-2016 07:34:19        9      044\n",
              "4  (080)47459867      98440 65896  01-09-2016 08:08:59     2147     9844"
            ]
          },
          "metadata": {
            "tags": []
          },
          "execution_count": 146
        }
      ]
    },
    {
      "cell_type": "code",
      "metadata": {
        "id": "3Mo33j9JcbI0",
        "colab_type": "code",
        "outputId": "96d17905-0442-4e74-c1be-4e508996bc53",
        "colab": {
          "base_uri": "https://localhost:8080/",
          "height": 119
        }
      },
      "source": [
        "np.sort(df_calls_from_blore.AreaCode.unique())"
      ],
      "execution_count": 0,
      "outputs": [
        {
          "output_type": "execute_result",
          "data": {
            "text/plain": [
              "array(['022', '040', '04344', '044', '04546', '0471', '080', '0821',\n",
              "       '7406', '7795', '7813', '7829', '8151', '8152', '8301', '8431',\n",
              "       '8714', '9008', '9019', '9035', '9036', '9241', '9242', '9341',\n",
              "       '9342', '9343', '9400', '9448', '9449', '9526', '9656', '9738',\n",
              "       '9740', '9741', '9742', '9844', '9845', '9900', '9961'],\n",
              "      dtype=object)"
            ]
          },
          "metadata": {
            "tags": []
          },
          "execution_count": 157
        }
      ]
    },
    {
      "cell_type": "code",
      "metadata": {
        "id": "KwzkX0JhfKgx",
        "colab_type": "code",
        "outputId": "91baa014-2a61-4c6f-836f-efd359e6486c",
        "colab": {
          "base_uri": "https://localhost:8080/",
          "height": 680
        }
      },
      "source": [
        "for a in np.sort(df_calls_from_blore.AreaCode.unique()):\n",
        "  print(a)"
      ],
      "execution_count": 0,
      "outputs": [
        {
          "output_type": "stream",
          "text": [
            "022\n",
            "040\n",
            "04344\n",
            "044\n",
            "04546\n",
            "0471\n",
            "080\n",
            "0821\n",
            "7406\n",
            "7795\n",
            "7813\n",
            "7829\n",
            "8151\n",
            "8152\n",
            "8301\n",
            "8431\n",
            "8714\n",
            "9008\n",
            "9019\n",
            "9035\n",
            "9036\n",
            "9241\n",
            "9242\n",
            "9341\n",
            "9342\n",
            "9343\n",
            "9400\n",
            "9448\n",
            "9449\n",
            "9526\n",
            "9656\n",
            "9738\n",
            "9740\n",
            "9741\n",
            "9742\n",
            "9844\n",
            "9845\n",
            "9900\n",
            "9961\n"
          ],
          "name": "stdout"
        }
      ]
    },
    {
      "cell_type": "code",
      "metadata": {
        "id": "kmEfamnVgGIb",
        "colab_type": "code",
        "outputId": "3699286c-420f-492d-cdd8-858b43f8bb86",
        "colab": {
          "base_uri": "https://localhost:8080/",
          "height": 697
        }
      },
      "source": [
        "# Function to get Area Code\n",
        "def getAreaCode(ph_no):\n",
        "  areaCode = ''\n",
        "  ph_no = str(ph_no)\n",
        "  if(ph_no.startswith('140')):\n",
        "    areaCode = '140'\n",
        "  elif(ph_no.startswith('(')):\n",
        "    idx_ending_parenthesis = ph_no.find(')')\n",
        "    if(idx_ending_parenthesis>=0):\n",
        "      areaCode = ph_no[1:idx_ending_parenthesis]\n",
        "  elif(ph_no.find(' ')>=0):\n",
        "    areaCode = ph_no[0:4]\n",
        "\n",
        "  return areaCode\n",
        "\n",
        "#Import the list to a dataframe\n",
        "df_calls = pd.DataFrame(calls, columns=['Calling_Number', 'Receiving_Number', 'Start_Time', 'Duration'])\n",
        "\n",
        "# Filter on Originating calls from Bangalore\n",
        "df_calls_from_blore = df_calls[df_calls.Calling_Number.str.startswith('(080)')].reset_index(drop=True)\n",
        "\n",
        "# Apply a lamda function to get Area codes into a separate column\n",
        "df_calls_from_blore['AreaCode'] = df_calls_from_blore.apply(lambda x: getAreaCode(x['Receiving_Number']), axis=1)\n",
        "\n",
        "# Print the Area Codes\n",
        "print('The numbers called by people in Bangalore have codes:')\n",
        "for ac in np.sort(df_calls_from_blore.AreaCode.unique()):\n",
        "  print(ac)"
      ],
      "execution_count": 0,
      "outputs": [
        {
          "output_type": "stream",
          "text": [
            "The numbers called by people in Bangalore have codes:\n",
            "022\n",
            "040\n",
            "04344\n",
            "044\n",
            "04546\n",
            "0471\n",
            "080\n",
            "0821\n",
            "7406\n",
            "7795\n",
            "7813\n",
            "7829\n",
            "8151\n",
            "8152\n",
            "8301\n",
            "8431\n",
            "8714\n",
            "9008\n",
            "9019\n",
            "9035\n",
            "9036\n",
            "9241\n",
            "9242\n",
            "9341\n",
            "9342\n",
            "9343\n",
            "9400\n",
            "9448\n",
            "9449\n",
            "9526\n",
            "9656\n",
            "9738\n",
            "9740\n",
            "9741\n",
            "9742\n",
            "9844\n",
            "9845\n",
            "9900\n",
            "9961\n"
          ],
          "name": "stdout"
        }
      ]
    },
    {
      "cell_type": "code",
      "metadata": {
        "id": "PoXF3E2AgbfZ",
        "colab_type": "code",
        "outputId": "35c7f558-3885-48e3-e2b2-e158733c7aa6",
        "colab": {
          "base_uri": "https://localhost:8080/",
          "height": 204
        }
      },
      "source": [
        "df_calls[df_calls.Calling_Number.str.startswith('94')].head()"
      ],
      "execution_count": 0,
      "outputs": [
        {
          "output_type": "execute_result",
          "data": {
            "text/html": [
              "<div>\n",
              "<style scoped>\n",
              "    .dataframe tbody tr th:only-of-type {\n",
              "        vertical-align: middle;\n",
              "    }\n",
              "\n",
              "    .dataframe tbody tr th {\n",
              "        vertical-align: top;\n",
              "    }\n",
              "\n",
              "    .dataframe thead th {\n",
              "        text-align: right;\n",
              "    }\n",
              "</style>\n",
              "<table border=\"1\" class=\"dataframe\">\n",
              "  <thead>\n",
              "    <tr style=\"text-align: right;\">\n",
              "      <th></th>\n",
              "      <th>Calling_Number</th>\n",
              "      <th>Receiving_Number</th>\n",
              "      <th>Start_Time</th>\n",
              "      <th>Duration</th>\n",
              "    </tr>\n",
              "  </thead>\n",
              "  <tbody>\n",
              "    <tr>\n",
              "      <th>68</th>\n",
              "      <td>94497 44333</td>\n",
              "      <td>97385 70012</td>\n",
              "      <td>01-09-2016 12:15:43</td>\n",
              "      <td>46</td>\n",
              "    </tr>\n",
              "    <tr>\n",
              "      <th>71</th>\n",
              "      <td>94005 20878</td>\n",
              "      <td>(080)49328664</td>\n",
              "      <td>01-09-2016 12:20:15</td>\n",
              "      <td>151</td>\n",
              "    </tr>\n",
              "    <tr>\n",
              "      <th>82</th>\n",
              "      <td>94487 29969</td>\n",
              "      <td>97419 41164</td>\n",
              "      <td>01-09-2016 13:33:45</td>\n",
              "      <td>501</td>\n",
              "    </tr>\n",
              "    <tr>\n",
              "      <th>94</th>\n",
              "      <td>94005 20878</td>\n",
              "      <td>(080)49328664</td>\n",
              "      <td>01-09-2016 14:23:45</td>\n",
              "      <td>150</td>\n",
              "    </tr>\n",
              "    <tr>\n",
              "      <th>95</th>\n",
              "      <td>94486 40312</td>\n",
              "      <td>(044)48154960</td>\n",
              "      <td>01-09-2016 14:29:23</td>\n",
              "      <td>494</td>\n",
              "    </tr>\n",
              "  </tbody>\n",
              "</table>\n",
              "</div>"
            ],
            "text/plain": [
              "   Calling_Number Receiving_Number           Start_Time Duration\n",
              "68    94497 44333      97385 70012  01-09-2016 12:15:43       46\n",
              "71    94005 20878    (080)49328664  01-09-2016 12:20:15      151\n",
              "82    94487 29969      97419 41164  01-09-2016 13:33:45      501\n",
              "94    94005 20878    (080)49328664  01-09-2016 14:23:45      150\n",
              "95    94486 40312    (044)48154960  01-09-2016 14:29:23      494"
            ]
          },
          "metadata": {
            "tags": []
          },
          "execution_count": 164
        }
      ]
    },
    {
      "cell_type": "code",
      "metadata": {
        "id": "jwJCt0_NkdQm",
        "colab_type": "code",
        "outputId": "f8b9c679-8a74-4a2e-fce6-a6788d0795ba",
        "colab": {
          "base_uri": "https://localhost:8080/",
          "height": 204
        }
      },
      "source": [
        "df_calls_from_blore.head()"
      ],
      "execution_count": 0,
      "outputs": [
        {
          "output_type": "execute_result",
          "data": {
            "text/html": [
              "<div>\n",
              "<style scoped>\n",
              "    .dataframe tbody tr th:only-of-type {\n",
              "        vertical-align: middle;\n",
              "    }\n",
              "\n",
              "    .dataframe tbody tr th {\n",
              "        vertical-align: top;\n",
              "    }\n",
              "\n",
              "    .dataframe thead th {\n",
              "        text-align: right;\n",
              "    }\n",
              "</style>\n",
              "<table border=\"1\" class=\"dataframe\">\n",
              "  <thead>\n",
              "    <tr style=\"text-align: right;\">\n",
              "      <th></th>\n",
              "      <th>Calling_Number</th>\n",
              "      <th>Receiving_Number</th>\n",
              "      <th>Start_Time</th>\n",
              "      <th>Duration</th>\n",
              "      <th>AreaCode</th>\n",
              "    </tr>\n",
              "  </thead>\n",
              "  <tbody>\n",
              "    <tr>\n",
              "      <th>0</th>\n",
              "      <td>(080)45291968</td>\n",
              "      <td>90365 06212</td>\n",
              "      <td>01-09-2016 06:30:36</td>\n",
              "      <td>9</td>\n",
              "      <td>9036</td>\n",
              "    </tr>\n",
              "    <tr>\n",
              "      <th>1</th>\n",
              "      <td>(080)62164823</td>\n",
              "      <td>74066 93594</td>\n",
              "      <td>01-09-2016 06:52:07</td>\n",
              "      <td>300</td>\n",
              "      <td>7406</td>\n",
              "    </tr>\n",
              "    <tr>\n",
              "      <th>2</th>\n",
              "      <td>(080)67362492</td>\n",
              "      <td>(04344)316423</td>\n",
              "      <td>01-09-2016 07:24:45</td>\n",
              "      <td>2258</td>\n",
              "      <td>04344</td>\n",
              "    </tr>\n",
              "    <tr>\n",
              "      <th>3</th>\n",
              "      <td>(080)69245029</td>\n",
              "      <td>(044)49481100</td>\n",
              "      <td>01-09-2016 07:34:19</td>\n",
              "      <td>9</td>\n",
              "      <td>044</td>\n",
              "    </tr>\n",
              "    <tr>\n",
              "      <th>4</th>\n",
              "      <td>(080)47459867</td>\n",
              "      <td>98440 65896</td>\n",
              "      <td>01-09-2016 08:08:59</td>\n",
              "      <td>2147</td>\n",
              "      <td>9844</td>\n",
              "    </tr>\n",
              "  </tbody>\n",
              "</table>\n",
              "</div>"
            ],
            "text/plain": [
              "  Calling_Number Receiving_Number           Start_Time Duration AreaCode\n",
              "0  (080)45291968      90365 06212  01-09-2016 06:30:36        9     9036\n",
              "1  (080)62164823      74066 93594  01-09-2016 06:52:07      300     7406\n",
              "2  (080)67362492    (04344)316423  01-09-2016 07:24:45     2258    04344\n",
              "3  (080)69245029    (044)49481100  01-09-2016 07:34:19        9      044\n",
              "4  (080)47459867      98440 65896  01-09-2016 08:08:59     2147     9844"
            ]
          },
          "metadata": {
            "tags": []
          },
          "execution_count": 165
        }
      ]
    },
    {
      "cell_type": "code",
      "metadata": {
        "id": "xzNMj3p-kwPQ",
        "colab_type": "code",
        "outputId": "9d12cf91-d5a3-4150-85e3-df87375f43ca",
        "colab": {
          "base_uri": "https://localhost:8080/",
          "height": 34
        }
      },
      "source": [
        "round((df_calls_from_blore[df_calls_from_blore.AreaCode=='080'].shape[0]/df_calls_from_blore.shape[0])*100, 2)"
      ],
      "execution_count": 0,
      "outputs": [
        {
          "output_type": "execute_result",
          "data": {
            "text/plain": [
              "24.81"
            ]
          },
          "metadata": {
            "tags": []
          },
          "execution_count": 169
        }
      ]
    },
    {
      "cell_type": "code",
      "metadata": {
        "id": "MK9TkyAKk1sw",
        "colab_type": "code",
        "outputId": "3ec785a5-5430-41b9-9b2e-7f67d60ca702",
        "colab": {
          "base_uri": "https://localhost:8080/",
          "height": 34
        }
      },
      "source": [
        "pct_blore_to_blore = round((df_calls_from_blore[df_calls_from_blore.AreaCode=='080'].shape[0]/df_calls_from_blore.shape[0])*100, 2)\n",
        "print('{} percent of calls from fixed lines in Bangalore are calls to other fixed lines in Bangalore.'.format(pct_blore_to_blore))"
      ],
      "execution_count": 0,
      "outputs": [
        {
          "output_type": "stream",
          "text": [
            "24.81 percent of calls from fixed lines in Bangalore are calls to other fixed lines in Bangalore.\n"
          ],
          "name": "stdout"
        }
      ]
    },
    {
      "cell_type": "code",
      "metadata": {
        "id": "1o9HaJ9Zldob",
        "colab_type": "code",
        "outputId": "1af9065c-99bd-43c9-e0b3-a24167fcc049",
        "colab": {
          "base_uri": "https://localhost:8080/",
          "height": 49
        }
      },
      "source": [
        "df_calls_from_blore[df_calls_from_blore.AreaCode=='9180']"
      ],
      "execution_count": 0,
      "outputs": [
        {
          "output_type": "execute_result",
          "data": {
            "text/html": [
              "<div>\n",
              "<style scoped>\n",
              "    .dataframe tbody tr th:only-of-type {\n",
              "        vertical-align: middle;\n",
              "    }\n",
              "\n",
              "    .dataframe tbody tr th {\n",
              "        vertical-align: top;\n",
              "    }\n",
              "\n",
              "    .dataframe thead th {\n",
              "        text-align: right;\n",
              "    }\n",
              "</style>\n",
              "<table border=\"1\" class=\"dataframe\">\n",
              "  <thead>\n",
              "    <tr style=\"text-align: right;\">\n",
              "      <th></th>\n",
              "      <th>Calling_Number</th>\n",
              "      <th>Receiving_Number</th>\n",
              "      <th>Start_Time</th>\n",
              "      <th>Duration</th>\n",
              "      <th>AreaCode</th>\n",
              "    </tr>\n",
              "  </thead>\n",
              "  <tbody>\n",
              "  </tbody>\n",
              "</table>\n",
              "</div>"
            ],
            "text/plain": [
              "Empty DataFrame\n",
              "Columns: [Calling_Number, Receiving_Number, Start_Time, Duration, AreaCode]\n",
              "Index: []"
            ]
          },
          "metadata": {
            "tags": []
          },
          "execution_count": 171
        }
      ]
    },
    {
      "cell_type": "code",
      "metadata": {
        "id": "L4EEjhgtll3C",
        "colab_type": "code",
        "colab": {}
      },
      "source": [
        ""
      ],
      "execution_count": 0,
      "outputs": []
    }
  ]
}